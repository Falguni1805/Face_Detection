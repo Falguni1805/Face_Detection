{
 "cells": [
  {
   "cell_type": "code",
   "execution_count": 1,
   "id": "072501c1-c661-4731-98a1-a85e9a0ac8b2",
   "metadata": {
    "tags": []
   },
   "outputs": [],
   "source": [
    "from keras.models import load_model\n",
    "import numpy as np\n",
    "import cv2\n",
    "from keras.preprocessing import image\n"
   ]
  },
  {
   "cell_type": "code",
   "execution_count": 2,
   "id": "c9be2877-d5d9-4031-a9e0-ac8c224b0ddd",
   "metadata": {
    "tags": []
   },
   "outputs": [],
   "source": [
    "detection_model_path = 'haarcascade_files/haarcascade_frontalface_default.xml'\n",
    "emotion_model_path = 'final_model.h5'\n",
    "face_detection = cv2.CascadeClassifier(detection_model_path)\n",
    "emotion_classifier = load_model(emotion_model_path, compile=False)\n",
    "EMOTIONS = [\"happy\", \"sad\"]"
   ]
  },
  {
   "cell_type": "code",
   "execution_count": 3,
   "id": "1545a6d6-639d-4123-a017-9b19f82d870c",
   "metadata": {},
   "outputs": [],
   "source": [
    "def emotion_testing():\n",
    "    cap = cv2.VideoCapture(0)\n",
    "    while True:\n",
    "        ret, test_img = cap.read()\n",
    "        if not ret:\n",
    "            continue\n",
    "        gray_img = cv2.cvtColor(test_img, cv2.COLOR_BGR2GRAY)\n",
    "\n",
    "        faces_detected = face_detection.detectMultiScale(gray_img, 1.32, 5)\n",
    "\n",
    "        for (x, y, w, h) in faces_detected:\n",
    "            cv2.rectangle(test_img, (x, y), (x + w, y + h), (255, 0, 0), thickness=7)\n",
    "            roi_gray = gray_img[y:y + w, x:x + h]  # cropping region of interest i.e. face area from  image\n",
    "            roi_gray = cv2.resize(roi_gray, (48, 48))\n",
    "            img_pixels = image.img_to_array(roi_gray)\n",
    "            img_pixels = np.expand_dims(img_pixels, axis=0)\n",
    "            img_pixels /= 255\n",
    "\n",
    "            predictions = emotion_classifier.predict(img_pixels)\n",
    "\n",
    "            # find max indexed array\n",
    "            max_index = np.argmax(predictions[0])\n",
    "            predicted_emotion = EMOTIONS[max_index]\n",
    "\n",
    "            cv2.putText(test_img, predicted_emotion, (int(x), int(y)), cv2.FONT_HERSHEY_SIMPLEX, 1, (0, 0, 255), 2)\n",
    "\n",
    "        resized_img = cv2.resize(test_img, (1000, 700))\n",
    "        cv2.imshow('Facial emotion analysis ', resized_img)\n",
    "\n",
    "        if cv2.waitKey(0) & 0xFF == ord('q'):\n",
    "            break\n",
    "    cap.release()\n",
    "    cv2.destroyAllWindows\n",
    "    return predicted_emotion\n"
   ]
  },
  {
   "cell_type": "code",
   "execution_count": 4,
   "id": "b3458b1c-3657-4648-a1f9-fa6ad572992f",
   "metadata": {},
   "outputs": [
    {
     "name": "stdout",
     "output_type": "stream",
     "text": [
      "1/1 [==============================] - 0s 242ms/step\n",
      "1/1 [==============================] - 0s 55ms/step\n",
      "1/1 [==============================] - 0s 60ms/step\n",
      "1/1 [==============================] - 0s 50ms/step\n",
      "1/1 [==============================] - 0s 57ms/step\n",
      "sad\n"
     ]
    }
   ],
   "source": [
    "predicted = emotion_testing()\n",
    "print(predicted)"
   ]
  },
  {
   "cell_type": "code",
   "execution_count": null,
   "id": "3e35fd9b-be99-4ab7-be50-78beeaa12269",
   "metadata": {},
   "outputs": [],
   "source": []
  }
 ],
 "metadata": {
  "kernelspec": {
   "display_name": "music_rec",
   "language": "python",
   "name": "music_rec"
  },
  "language_info": {
   "codemirror_mode": {
    "name": "ipython",
    "version": 3
   },
   "file_extension": ".py",
   "mimetype": "text/x-python",
   "name": "python",
   "nbconvert_exporter": "python",
   "pygments_lexer": "ipython3",
   "version": "3.11.4"
  }
 },
 "nbformat": 4,
 "nbformat_minor": 5
}
